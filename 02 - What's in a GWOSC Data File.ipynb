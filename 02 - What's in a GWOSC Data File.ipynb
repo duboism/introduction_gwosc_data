{
 "cells": [
  {
   "cell_type": "markdown",
   "id": "03c9fc8f-6656-421f-a778-4cc13704907e",
   "metadata": {},
   "source": [
    "# Tutorial Step 2: What's in a GWOSC Data File?"
   ]
  },
  {
   "cell_type": "markdown",
   "id": "0d80ff85-102a-464e-afca-c9073c54fa0f",
   "metadata": {},
   "source": [
    "In this tutorial, we will use python to read the file downloaded in [Step 1](<./01 - Download GWOSC Data.ipynb>).\n",
    "This step presents some details about the file format use in GWOSC data files.\n",
    "[Step 5](<./05 - GWpy examples.pynb>) will present a higher-level API to read those files."
   ]
  },
  {
   "cell_type": "markdown",
   "id": "4a621166-3916-4dcf-820a-489585e88e61",
   "metadata": {},
   "source": [
    "<div class=\"alert alert-block alert-warning\">\n",
    "<div><b> &#9888 Warning</b></div>\n",
    "    Uncomment the following cell if running in Google Colab.\n",
    "    If you use other running methods, it should not be necessary.\n",
    "</div>"
   ]
  },
  {
   "cell_type": "code",
   "execution_count": 1,
   "id": "2a8791ef-742d-4807-a640-02657a38fe68",
   "metadata": {},
   "outputs": [],
   "source": [
    "#! wget http://gwosc.org/archive/data/O3b_4KHZ_R1/1263534080/H-H1_GWOSC_O3b_4KHZ_R1-1264312320-4096.hdf5"
   ]
  },
  {
   "cell_type": "markdown",
   "id": "a41fea2f-45b1-444f-8529-23e21cdb2ee5",
   "metadata": {},
   "source": [
    "## The GWOSC HDF5 file format"
   ]
  },
  {
   "cell_type": "markdown",
   "id": "330ae46d-c1e0-4825-9afd-cedc4095c155",
   "metadata": {},
   "source": [
    "The data file uses the standard [HDF5 file format](https://www.hdfgroup.org/solutions/hdf5).\n",
    "This format is used to store large amounts of scientific data and their meta-data (called attributes) in a hierarchical structure and process them efficiently.\n",
    "It is a common format in the scientific world and there are many tools and libraries to work with such files."
   ]
  },
  {
   "cell_type": "markdown",
   "id": "5df597f8-586e-4931-9a0d-35055ab86e91",
   "metadata": {},
   "source": [
    "A first option to view the structure of an HDF5 file is the [HDFView tool](https://www.hdfgroup.org/downloads/hdfview/), a free software which can be downloaded from the HDF Group web site.\n",
    "This will give you an interactive display of the content inside GWOSC data file."
   ]
  },
  {
   "cell_type": "markdown",
   "id": "51ecce08-018b-40ff-815f-75689b5f5fef",
   "metadata": {},
   "source": [
    "## Programmatic access with python"
   ]
  },
  {
   "cell_type": "markdown",
   "id": "6b4f3e5d-fb58-48ee-8374-91bd189fce0e",
   "metadata": {},
   "source": [
    "### A first glimpse"
   ]
  },
  {
   "cell_type": "markdown",
   "id": "500e4085-c5f9-460e-ad66-b6ba632ab0fb",
   "metadata": {},
   "source": [
    "[h5py](http://www.h5py.org/) is a python package to work with HDF5 files.\n",
    "With it, you can access the content using a dictionary interface."
   ]
  },
  {
   "cell_type": "code",
   "execution_count": 2,
   "id": "583cb2d1-bad0-41cd-ba14-681c29687a65",
   "metadata": {
    "editable": true,
    "slideshow": {
     "slide_type": ""
    },
    "tags": []
   },
   "outputs": [],
   "source": [
    "#----------------------\n",
    "# Import needed modules\n",
    "#----------------------\n",
    "import numpy as np\n",
    "import matplotlib.pylab as plt\n",
    "import h5py"
   ]
  },
  {
   "cell_type": "code",
   "execution_count": 3,
   "id": "c1e579c4-f65c-452a-9499-393ac777b55a",
   "metadata": {
    "editable": true,
    "slideshow": {
     "slide_type": ""
    },
    "tags": []
   },
   "outputs": [],
   "source": [
    "#--------------\n",
    "# Open the File\n",
    "#--------------\n",
    "filename = 'H-H1_GWOSC_O3b_4KHZ_R1-1264312320-4096.hdf5'\n",
    "dataFile = h5py.File(filename, 'r')"
   ]
  },
  {
   "cell_type": "code",
   "execution_count": 4,
   "id": "8327dc48-570d-493a-bcff-58d7d59d86d2",
   "metadata": {},
   "outputs": [
    {
     "name": "stdout",
     "output_type": "stream",
     "text": [
      "meta\n",
      "quality\n",
      "strain\n"
     ]
    }
   ],
   "source": [
    "#-----------------\n",
    "# Explore the file\n",
    "#-----------------\n",
    "for key in dataFile.keys():\n",
    "    print(key)"
   ]
  },
  {
   "cell_type": "markdown",
   "id": "a5bc96db-060e-4113-930d-6fe9f3c89288",
   "metadata": {},
   "source": [
    "You can now access the data as in a dictionary."
   ]
  },
  {
   "cell_type": "markdown",
   "id": "c52b34a5-25c8-45f6-8eaa-3db9aeeb98f2",
   "metadata": {},
   "source": [
    "### Plot a time series"
   ]
  },
  {
   "cell_type": "markdown",
   "id": "16c9f452-6034-4e56-a2aa-21f866bccafe",
   "metadata": {},
   "source": [
    "Let's continue our exploration to make a plot of a few seconds of data. To store the strain data in a convenient place, use the code below:"
   ]
  },
  {
   "cell_type": "code",
   "execution_count": 5,
   "id": "19feb687-b5ea-4501-8033-d099de10c2c4",
   "metadata": {
    "editable": true,
    "slideshow": {
     "slide_type": ""
    },
    "tags": []
   },
   "outputs": [
    {
     "name": "stdout",
     "output_type": "stream",
     "text": [
      "ts = 0.000244140625s, sample rate = 4096.0Hz\n"
     ]
    }
   ],
   "source": [
    "#--------------------\n",
    "# Read in strain data\n",
    "#--------------------\n",
    "strain = dataFile['strain']['Strain']\n",
    "ts = dataFile['strain']['Strain'].attrs['Xspacing']\n",
    "print(f\"ts = {ts}s, sample rate = {1/ts}Hz\")"
   ]
  },
  {
   "cell_type": "markdown",
   "id": "8bbeafee-eadd-40d4-8af1-83f6fbd5e761",
   "metadata": {},
   "source": [
    "The code above accesses the `'Strain'` data object that lives inside the group `'strain'` - we store this as `strain`.\n",
    "The \"attribute\" `'Xspacing'` tells how much time there is between each sample, and we store this as `ts`.\n",
    "To see all the structure of a GWOSC data file, see the end of this tutorial."
   ]
  },
  {
   "cell_type": "markdown",
   "id": "e0e2705e-1294-456a-9f8a-7722bdd1001b",
   "metadata": {},
   "source": [
    "Now, let's use the meta-data to make a vector that will label the time stamp of each sample. In the same way that we indexed `dataFile` as a python dictionary, we can also index `dataFile['meta']`. To see what meta-data we have to work with, use the code below:"
   ]
  },
  {
   "cell_type": "code",
   "execution_count": 6,
   "id": "24994c7a-8850-4442-a509-92be68474ad2",
   "metadata": {
    "editable": true,
    "slideshow": {
     "slide_type": ""
    },
    "tags": []
   },
   "outputs": [
    {
     "name": "stdout",
     "output_type": "stream",
     "text": [
      "Description <HDF5 dataset \"Description\": shape (), type \"|O\">\n",
      "DescriptionURL <HDF5 dataset \"DescriptionURL\": shape (), type \"|O\">\n",
      "Detector <HDF5 dataset \"Detector\": shape (), type \"|O\">\n",
      "Duration <HDF5 dataset \"Duration\": shape (), type \"<i8\">\n",
      "FrameType <HDF5 dataset \"FrameType\": shape (), type \"|O\">\n",
      "GPSstart <HDF5 dataset \"GPSstart\": shape (), type \"<i8\">\n",
      "Observatory <HDF5 dataset \"Observatory\": shape (), type \"|O\">\n",
      "StrainChannel <HDF5 dataset \"StrainChannel\": shape (), type \"|O\">\n",
      "Type <HDF5 dataset \"Type\": shape (), type \"|O\">\n",
      "UTCstart <HDF5 dataset \"UTCstart\": shape (), type \"|O\">\n"
     ]
    }
   ],
   "source": [
    "#-------------------------\n",
    "# Print out some meta data\n",
    "#-------------------------\n",
    "metaKeys = dataFile['meta'].keys()\n",
    "meta = dataFile['meta']\n",
    "for key in metaKeys:\n",
    "    print(key, meta[key])"
   ]
  },
  {
   "cell_type": "markdown",
   "id": "f210b098-8beb-40a4-bbbc-bf03b9ac2246",
   "metadata": {},
   "source": [
    "You should see that the GPS start time and the duration are both stored as meta-data.\n",
    "To calculate how much time passes between samples, we can divide the total duration by the number of samples:"
   ]
  },
  {
   "cell_type": "code",
   "execution_count": 7,
   "id": "2352740a-0c3e-491d-a0be-5dbd4a663540",
   "metadata": {},
   "outputs": [],
   "source": [
    "#---------------------\n",
    "# Create a time vector\n",
    "#---------------------\n",
    "gpsStart = meta['GPSstart'][()]\n",
    "duration = meta['Duration'][()]\n",
    "gpsEnd   = gpsStart + duration\n",
    "\n",
    "time = np.arange(gpsStart, gpsEnd, ts)"
   ]
  },
  {
   "cell_type": "markdown",
   "id": "b156ac89-200e-4d62-92d2-700d96ec1a09",
   "metadata": {},
   "source": [
    "The numpy command `arange` creates an array (think a column of numbers) that starts at `gpsStart`, ends at `gpsEnd` (non-inclusive), and has an increment of `ts` between each element."
   ]
  },
  {
   "cell_type": "markdown",
   "id": "127ea4bb-ebdb-4e32-a7b6-d69b870a4721",
   "metadata": {},
   "source": [
    "We can now plot the data:"
   ]
  },
  {
   "cell_type": "code",
   "execution_count": 8,
   "id": "0ee59d37-6ec9-4746-83e6-82e092fcf47c",
   "metadata": {},
   "outputs": [
    {
     "data": {
      "image/png": "[encoded data removed]",
      "text/plain": [
       "<Figure size 640x480 with 1 Axes>"
      ]
     },
     "metadata": {},
     "output_type": "display_data"
    }
   ],
   "source": [
    "#---------------------\n",
    "# Plot the time series\n",
    "#---------------------\n",
    "plt.plot(time, strain[()])\n",
    "plt.xlabel('GPS Time (s)')\n",
    "plt.ylabel('H1 Strain')\n",
    "plt.show()"
   ]
  },
  {
   "cell_type": "markdown",
   "id": "c4d369a5-ac92-4deb-9b98-b02a8581b59a",
   "metadata": {},
   "source": [
    "Finally, let's use all of this to plot a few seconds worth of data.\n",
    "Since this data is sampled at 4096 Hz, 10,000 samples corresponds to about 2.4 s.\n",
    "We will start at time 1256779566.0."
   ]
  },
  {
   "cell_type": "code",
   "execution_count": 9,
   "id": "d9f130e7-910f-4645-9f50-3db5341f93bb",
   "metadata": {},
   "outputs": [
    {
     "data": {
      "image/png": "[encoded data removed]",
      "text/plain": [
       "<Figure size 640x480 with 1 Axes>"
      ]
     },
     "metadata": {},
     "output_type": "display_data"
    }
   ],
   "source": [
    "#------------------------\n",
    "# Zoom in the time series\n",
    "#------------------------\n",
    "numsamples = 10000\n",
    "startTime  = 1264316116.0\n",
    "startIndex = np.min(np.nonzero(startTime < time))\n",
    "time_seg   = time[startIndex:(startIndex+numsamples)]\n",
    "strain_seg = strain[startIndex:(startIndex+numsamples)]\n",
    "plt.plot(time_seg, strain_seg)\n",
    "plt.xlabel('GPS Time (s)')\n",
    "plt.ylabel('H1 Strain')\n",
    "plt.show()"
   ]
  },
  {
   "cell_type": "markdown",
   "id": "7c3e80fa-faf1-4bcd-b420-dedf18c41ba2",
   "metadata": {},
   "source": [
    "You may be surprised that the data looks smooth and curvy, rather than jagged and jumpy as you might expect for [white noise](https://en.wikipedia.org/wiki/White_noise).\n",
    "That's because white noise has roughly equal power at all frequencies, which GW data does not.\n",
    "Rather, GW data includes noise that is a strong function of frequency - we often say the noise is \"colored\" to distinguish it from white noise.\n",
    "The wiggles you see in the plot above are at the low end of the LVK band (around 20 Hz).\n",
    "In general, GW noise is dominated by these low frequencies.\n",
    "To learn more about GW noise as a function of frequency, take a look at the [Step 4 of this tutorial](<04 - Working in Frequency Domain.ipynb>). "
   ]
  },
  {
   "cell_type": "markdown",
   "id": "188fbf2c-9bb8-4937-8818-12f120f4706b",
   "metadata": {},
   "source": [
    "### A slightly more advanced script"
   ]
  },
  {
   "cell_type": "markdown",
   "id": "46270c5b-66d3-4866-963e-4d257438f2b9",
   "metadata": {},
   "source": [
    "Let's write a short python script for viewing the _entire_ structure of a GWOSC data file.\n",
    "It is based on the [visititems](https://docs.h5py.org/en/stable/high/group.html#h5py.Group.visititems) method."
   ]
  },
  {
   "cell_type": "code",
   "execution_count": 10,
   "id": "3f32577a-a030-4d94-82d1-e9450e6797da",
   "metadata": {
    "scrolled": true
   },
   "outputs": [
    {
     "name": "stdout",
     "output_type": "stream",
     "text": [
      "meta :\n",
      "meta/Description :\n",
      "   value: b'Strain data time series from LIGO'\n",
      "meta/DescriptionURL :\n",
      "   value: b'http://www.gw-openscience.org/'\n",
      "meta/Detector :\n",
      "   value: b'H1'\n",
      "meta/Duration :\n",
      "   value: 4096\n",
      "meta/FrameType :\n",
      "   value: b'H1_HOFT_CLEAN_SUB60HZ_C01'\n",
      "meta/GPSstart :\n",
      "   value: 1264312320\n",
      "meta/Observatory :\n",
      "   value: b'H'\n",
      "meta/StrainChannel :\n",
      "   value: b'H1:DCS-CALIB_STRAIN_CLEAN_SUB60HZ_C01'\n",
      "meta/Type :\n",
      "   value: b'StrainTimeSeries'\n",
      "meta/UTCstart :\n",
      "   value: b'2020-01-29T05:51:42'\n",
      "quality :\n",
      "quality/detail :\n",
      "quality/injections :\n",
      "quality/injections/GWOSCmeta :\n",
      "   value: b'GWOSC-4KHZ_R1_INJMASK'\n",
      "quality/injections/InjDescriptions :\n",
      "   value: [b'no cbc injection' b'no burst injections' b'no detchar injections'\n",
      " b'no continuous wave injections' b'no stoch injections']\n",
      "quality/injections/InjShortnames :\n",
      "   value: [b'NO_CBC_HW_INJ' b'NO_BURST_HW_INJ' b'NO_DETCHAR_HW_INJ' b'NO_CW_HW_INJ'\n",
      " b'NO_STOCH_HW_INJ']\n",
      "quality/injections/Injmask :\n",
      "   value: [23 23 23 ... 23 23 23]\n",
      "     attrs[Bits]:  5\n",
      "     attrs[Description]:  A bitmask encoded as an integer-valued timeseries. The first \"Bits\" bits might be used, for each there is an entry in \"Bits\", \"Shortnames\", \"Descriptions\", one for each bit.\n",
      "     attrs[Npoints]:  4096\n",
      "     attrs[Xlabel]:  GPS time\n",
      "     attrs[Xspacing]:  1.0\n",
      "     attrs[Xstart]:  1264312320\n",
      "     attrs[Xunits]:  second\n",
      "     attrs[Ylabel]:  Injmask\n",
      "quality/simple :\n",
      "quality/simple/DQDescriptions :\n",
      "   value: [b'data present' b'passes the cbc CAT1 test' b'passes cbc CAT2 test'\n",
      " b'passes cbc CAT3 test' b'passes burst CAT1 test'\n",
      " b'passes burst CAT2 test' b'passes burst CAT3 test']\n",
      "quality/simple/DQShortnames :\n",
      "   value: [b'DATA' b'CBC_CAT1' b'CBC_CAT2' b'CBC_CAT3' b'BURST_CAT1' b'BURST_CAT2'\n",
      " b'BURST_CAT3']\n",
      "quality/simple/DQmask :\n",
      "   value: [127 127 127 ... 127 127 127]\n",
      "     attrs[Bits]:  7\n",
      "     attrs[Description]:  A bitmask encoded as an integer-valued timeseries. The first \"Bits\" bits might be used, for each there is an entry in \"Bits\", \"Shortnames\", \"Descriptions\", one for each bit.\n",
      "     attrs[Npoints]:  4096\n",
      "     attrs[Xlabel]:  GPS time\n",
      "     attrs[Xspacing]:  1.0\n",
      "     attrs[Xstart]:  1264312320\n",
      "     attrs[Xunits]:  second\n",
      "     attrs[Ylabel]:  DQmask\n",
      "quality/simple/GWOSCmeta :\n",
      "   value: b'GWOSC-4KHZ_R1_DQMASK'\n",
      "strain :\n",
      "strain/GWOSCmeta :\n",
      "   value: b'GWOSC-4KHZ_R1_STRAIN'\n",
      "strain/Strain :\n",
      "   value: [-9.97334403e-21 -1.48231254e-20 -2.54824746e-22 ... -1.28230647e-20\n",
      " -2.99821216e-21 -7.84130577e-21]\n",
      "     attrs[Npoints]:  16777216\n",
      "     attrs[Xlabel]:  GPS time\n",
      "     attrs[Xspacing]:  0.000244140625\n",
      "     attrs[Xstart]:  1264312320\n",
      "     attrs[Xunits]:  second\n",
      "     attrs[Ylabel]:  Strain\n",
      "     attrs[Yunits]:  \n"
     ]
    }
   ],
   "source": [
    "def dump_info(name, obj):\n",
    "    print(\"{0} :\".format(name))\n",
    "    try:\n",
    "        print(\"   value: {0}\".format(str(obj[()])))\n",
    "        for key in obj.attrs.keys():\n",
    "            print(\"     attrs[{0}]:  {1}\".format(key, obj.attrs[key]))\n",
    "    except:\n",
    "        pass\n",
    "\n",
    "file = h5py.File(filename)\n",
    "file.visititems(dump_info)"
   ]
  },
  {
   "cell_type": "markdown",
   "id": "2f05edbf-d92d-4ad2-9c50-94a56fc14083",
   "metadata": {},
   "source": [
    "## What's next?"
   ]
  },
  {
   "cell_type": "markdown",
   "id": "2c2e72f2-a641-4a94-a3b2-f28961cd4bb4",
   "metadata": {},
   "source": [
    "In the [next step](<03 - Working with Data Quality.ipynb>), you will learn how to work with data quality."
   ]
  }
 ],
 "metadata": {
  "kernelspec": {
   "display_name": "Python 3 (ipykernel)",
   "language": "python",
   "name": "python3"
  },
  "language_info": {
   "codemirror_mode": {
    "name": "ipython",
    "version": 3
   },
   "file_extension": ".py",
   "mimetype": "text/x-python",
   "name": "python",
   "nbconvert_exporter": "python",
   "pygments_lexer": "ipython3",
   "version": "3.12.7"
  }
 },
 "nbformat": 4,
 "nbformat_minor": 5
}
