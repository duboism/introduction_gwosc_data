{
 "cells": [
  {
   "cell_type": "markdown",
   "id": "ca7d84ec-c852-48bd-8284-7fb682150b5d",
   "metadata": {},
   "source": [
    "# Tutorial Step 3: Working with Data Quality\n",
    "\n",
    "In this tutorial, we will take a look at how data quality information is stored in LIGO data files.\n",
    "If you are not already comfortable with using Python to read a GWOSC data file, you may want to take a look at [Step 2 of this tutorial](<02 - What's in a GWOSC Data File.ipynb>)."
   ]
  },
  {
   "cell_type": "markdown",
   "id": "6d46cf73-c889-47fc-8ea1-ba0aaf8ed7aa",
   "metadata": {},
   "source": [
    "# What's Data Quality?\n",
    "\n",
    "In addition to the main data output of the LIGO detectors (the \"strain\" channel), there are hundreds of other data channels that are recorded to monitor the state of both the instruments and the external environment.\n",
    "Some of these auxillary channels are used to create data quality flags to note times when the strain data is likely to be corrupted by instrumental artifacts.\n",
    "\n",
    "<div class=\"alert alert-block alert-warning\">\n",
    "<div><b>&#9888 Warning: Understanding data quality is very important when working with GWOSC data.</b></div>\n",
    "    Before performing any analysis, use this tutorial and the <a href=\"https://gwosc.org/data\">data documentation</a> to identify the appropriate times for your analysis.\n",
    "</div>\n",
    "\n",
    "<div class=\"alert alert-block alert-warning\">\n",
    "<div><b>&#9888 Warning</b></div>\n",
    "    Times which fail the DATA category flag are represented by NaNs and should never be analyzed.\n",
    "    Times which fail any CAT1 level flags have severe problems, and also should not be searched for astrophysical sources. \n",
    "</div>\n",
    "\n",
    "The data quality flags are organized into categories by how severe an impact they may have on a given type of search.\n",
    "The categories for each type of search are defined differently, but in general, a lower data quality category indicates a more severe problem.\n",
    "So, for example, a CBC Category 1 flag means that a stretch of data is strongly corrupted and cannot be used to search for low-mass compact binary coalescence (CBC) signals, but a CBC Category 3 flag indicates a less significant problem with the data.\n",
    "\n",
    " For a more detailed explanation of the meaning of various flags, see the [data documentation](https://gwosc.org/data)."
   ]
  },
  {
   "cell_type": "markdown",
   "id": "72865c6c-c5c8-4bec-96af-e5fdf2cada9b",
   "metadata": {},
   "source": [
    "## How is data quality information stored?\n",
    "\n",
    "Data quality information is stored in GWOSC data files as a 1 Hz time series for each category.\n",
    "Notice this is a different sampling rate than the 4096 Hz rate which is used to store strain data.\n",
    "So, for example, the first sample in a data quality channel applies to the first 4096 samples in the corresponding strain channel.\n",
    "\n",
    "In the O3b data set, there are 7 data quality categories, as well as 5 injection categories, each represented as a 1 Hz time series.\n",
    "Let's print out a list of the O3b data quality channel names and descriptions from the data file."
   ]
  },
  {
   "cell_type": "code",
   "execution_count": 1,
   "id": "2fc3656a-da1d-4128-80fe-7880cf1d86f5",
   "metadata": {},
   "outputs": [
    {
     "name": "stdout",
     "output_type": "stream",
     "text": [
      "Channel #0 (DATA): data present\n",
      "Channel #1 (CBC_CAT1): passes the cbc CAT1 test\n",
      "Channel #2 (CBC_CAT2): passes cbc CAT2 test\n",
      "Channel #3 (CBC_CAT3): passes cbc CAT3 test\n",
      "Channel #4 (BURST_CAT1): passes burst CAT1 test\n",
      "Channel #5 (BURST_CAT2): passes burst CAT2 test\n",
      "Channel #6 (BURST_CAT3): passes burst CAT3 test\n"
     ]
    }
   ],
   "source": [
    "import numpy as np\n",
    "import matplotlib.pyplot as plt\n",
    "import h5py\n",
    "\n",
    "filename = 'H-H1_GWOSC_O3b_4KHZ_R1-1256775680-4096.hdf5'\n",
    "dataFile = h5py.File(filename, 'r')\n",
    "gpsStart = dataFile['meta']['GPSstart'][()]\n",
    "\n",
    "dqInfo = dataFile['quality']['simple']\n",
    "bitnameList = dqInfo['DQShortnames'][()]\n",
    "descriptionList = dqInfo['DQDescriptions'][()]\n",
    "nbits = len(bitnameList)\n",
    "\n",
    "for bit in range(nbits):\n",
    "    print(f\"Channel #{bit} ({bitnameList[bit].decode()}): {descriptionList[bit].decode()}\")"
   ]
  },
  {
   "cell_type": "markdown",
   "id": "06ef5625-e4d3-49f8-8981-3daaa9fc956c",
   "metadata": {},
   "source": [
    "All the data quality categories are combined into a bit mask, and stored as an array with 4096 entries (one entry for each second of data). In the data file, this is called the `DQmask`.\n",
    "You can extract it from the data file by using this code:"
   ]
  },
  {
   "cell_type": "code",
   "execution_count": 2,
   "id": "227b9bed-fd41-489f-8905-9d7f00312154",
   "metadata": {},
   "outputs": [],
   "source": [
    "qmask = dqInfo['DQmask'][()]"
   ]
  },
  {
   "cell_type": "markdown",
   "id": "b5fe0b1c-223c-4a24-961b-2f61640958e7",
   "metadata": {},
   "source": [
    "Each sample in this bit mask encodes all 7 data quality categories as a different digit in a binary number: the bit at a given position corresponds to the channel printed above so the `DATA` channel corresponds to the first bit (written right-most), `CBC_CAT1` corresponds to the second bit (second starting from the right), etc.\n",
    "Note that positions start at 0.\n",
    "A 1 in a particular digit means the corresponding flag is \"passed\", so the data is \"good\" at that category level, and a 0 means the flag is off, so the data is \"bad\" at that category level.\n",
    "For example, a DQmask value of `0010011` in O3b data would mean that the detector data is available (because the bit at position 0 is 1DATA), and that the data passes the CBC_CAT1 (bit 1) and BURST_CAT1 (bit 4) criteria, but fails all other data quality conditions.\n",
    "\n",
    "This is a compact way to store a lot of information, but to work with data quality, we'll want to put things in a more convienient form.\n",
    "Let's try to unpack some of this data quality information.\n",
    "\n",
    "In most cases, you will not want to keep track of every data quality category, but only a few values that are important for your search.\n",
    "For example, to search for transient gravitational wave sources, such as supernovae or compact object mergers, you may want to keep track of the DATA category, as well as all of the BURST categories.\n",
    "As an example, let's try unpacking just the `BURST_CAT2` (bit 5) and `DATA` (bit 0) categories."
   ]
  },
  {
   "cell_type": "code",
   "execution_count": 3,
   "id": "52e5a72d-7a14-4d7b-b5ac-a283897bec6a",
   "metadata": {},
   "outputs": [],
   "source": [
    "data_channel = 0\n",
    "data_mask = (qmask >> data_channel) & 1\n",
    "\n",
    "burst_cat2_channel = 5\n",
    "burst_cat2_mask = (qmask >> burst_cat2_channel) & 1"
   ]
  },
  {
   "cell_type": "markdown",
   "id": "8eaa5c9f-a080-42e0-8c7a-6ec7bedc1dbb",
   "metadata": {},
   "source": [
    "Now, the variable `data_mask` will be 0 everywhere the data fails the `DATA` category, and 1 everywhere the data passes the `DATA` category.\n",
    "Similarly, since `BURST_CAT2` is stored in bit 5, the `burst_cat2_mask` variable will correspond to this category.\n",
    "\n",
    "In a typical case, you only want to use data where all of the categories of interest are \"passed\", signaling relatively clean data.\n",
    "To accomplish this, just take the logical, element-wise AND of all the channels you need:"
   ]
  },
  {
   "cell_type": "code",
   "execution_count": 4,
   "id": "34ee6098-85e7-4260-baa1-0d5f4c6e5375",
   "metadata": {},
   "outputs": [],
   "source": [
    "goodData_mask_1hz = data_mask & burst_cat2_mask"
   ]
  },
  {
   "cell_type": "markdown",
   "id": "9da81c7e-57a6-4fce-9b58-7d2e8b4a021f",
   "metadata": {},
   "source": [
    "To confirm that `goodData_mask_1hz` is on when both the `DATA` and `BURST_CAT2` categories are passed, we can make a plot of these three DQ channels."
   ]
  },
  {
   "cell_type": "code",
   "execution_count": 5,
   "id": "c5d37547-da1e-4c6f-aaf8-c8a6b4989608",
   "metadata": {},
   "outputs": [
    {
     "data": {
      "text/plain": [
       "Text(0.5, 0, 'Time (s)')"
      ]
     },
     "execution_count": 5,
     "metadata": {},
     "output_type": "execute_result"
    },
    {
     "data": {
      "image/png": "[encoded data removed]",
      "text/plain": [
       "<Figure size 640x480 with 3 Axes>"
      ]
     },
     "metadata": {},
     "output_type": "display_data"
    }
   ],
   "source": [
    "fig, (ax0, ax1, ax2) = plt.subplots(3, sharex=True, sharey=True)\n",
    "ax0.plot(goodData_mask_1hz)\n",
    "ax0.set_title('Good data')\n",
    "ax1.plot(burst_cat2_mask)\n",
    "ax1.set_title('BURST_CAT2')\n",
    "ax2.plot(data_mask)\n",
    "ax2.set_title('DATA')\n",
    "ax2.axis([0, 4096, -1, 2])\n",
    "ax2.set_xlabel('Time (s)')"
   ]
  },
  {
   "cell_type": "markdown",
   "id": "cb5c1e32-d96b-4a40-bc98-57781458f3b8",
   "metadata": {},
   "source": [
    "Here are some things to notice in the plot:\n",
    "  - A 1 means the category is passed, and so that second of data is good to use in your analysis.\n",
    "  - In this example, `goodData_mask_1hz` is the logical AND of the other two.\n",
    "  - The `BURST_CAT2` flag is 0 for a short times. So, there are several segments of \"good data\" in this file.\n",
    "\n",
    "A convenient way to ignore periods of bad data is to use data quality segments in the form of a list of Python slices. These can be obtained like this:"
   ]
  },
  {
   "cell_type": "code",
   "execution_count": 6,
   "id": "d22fbcfa-6bad-429b-81ed-8f2a94c44c14",
   "metadata": {},
   "outputs": [],
   "source": [
    "dummy = np.zeros(goodData_mask_1hz.shape)\n",
    "masked_dummy = np.ma.masked_array(dummy, np.logical_not(goodData_mask_1hz) )\n",
    "segments = np.ma.flatnotmasked_contiguous(masked_dummy)\n",
    "segList = [(int(seg.start+gpsStart), int(seg.stop+gpsStart)) for seg in segments]"
   ]
  },
  {
   "cell_type": "markdown",
   "id": "dbe08187-665b-42d8-a71b-ca0532f4371b",
   "metadata": {},
   "source": [
    "We'll see examples of how to use segment lists in the next step."
   ]
  },
  {
   "cell_type": "markdown",
   "id": "e5fab6c3-70bb-4825-89d1-e89ff29b8ae0",
   "metadata": {},
   "source": [
    "## What's next?\n",
    "\n",
    "When you are comfortable with data quality information, you can go to the [next step of this tutorial](<04 - Using the example API.ipynb>)."
   ]
  }
 ],
 "metadata": {
  "kernelspec": {
   "display_name": "Python 3 (ipykernel)",
   "language": "python",
   "name": "python3"
  },
  "language_info": {
   "codemirror_mode": {
    "name": "ipython",
    "version": 3
   },
   "file_extension": ".py",
   "mimetype": "text/x-python",
   "name": "python",
   "nbconvert_exporter": "python",
   "pygments_lexer": "ipython3",
   "version": "3.9.6"
  }
 },
 "nbformat": 4,
 "nbformat_minor": 5
}
